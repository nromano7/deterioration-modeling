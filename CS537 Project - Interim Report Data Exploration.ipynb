{
 "cells": [
  {
   "cell_type": "code",
   "execution_count": 1,
   "metadata": {
    "collapsed": true
   },
   "outputs": [],
   "source": [
    "import os\n",
    "import sys\n",
    "import plotly"
   ]
  },
  {
   "cell_type": "markdown",
   "metadata": {},
   "source": [
    "Initialize spark session."
   ]
  },
  {
   "cell_type": "code",
   "execution_count": 2,
   "metadata": {},
   "outputs": [
    {
     "name": "stdout",
     "output_type": "stream",
     "text": [
      "Welcome to\n",
      "      ____              __\n",
      "     / __/__  ___ _____/ /__\n",
      "    _\\ \\/ _ \\/ _ `/ __/  '_/\n",
      "   /__ / .__/\\_,_/_/ /_/\\_\\   version 2.2.0\n",
      "      /_/\n",
      "\n",
      "Using Python version 3.6.1 (default, May 11 2017 13:25:24)\n",
      "SparkSession available as 'spark'.\n"
     ]
    }
   ],
   "source": [
    "spark_home = os.environ.get('SPARK_HOME',None)\n",
    "sys.path.insert(0,spark_home + \"/python\")\n",
    "sys.path.insert(0,os.path.join(spark_home,'python/lib/py4j-0.8.2.1-src.zip'))\n",
    "with open(os.path.join(spark_home,'python/pyspark/shell.py')) as source_file:\n",
    "    exec(source_file.read())"
   ]
  },
  {
   "cell_type": "markdown",
   "metadata": {},
   "source": [
    "Load data from csv to Spark dataframe."
   ]
  },
  {
   "cell_type": "code",
   "execution_count": 3,
   "metadata": {
    "collapsed": true
   },
   "outputs": [],
   "source": [
    "rawData = sqlContext.read.load(r'C:\\Users\\Nick\\Documents\\Projects\\LTBP\\LDM & Deterioration Modeling\\LTBP Bridge Portal export.csv', \n",
    "                          format='com.databricks.spark.csv', \n",
    "                          header='true', \n",
    "                          inferSchema='true')"
   ]
  },
  {
   "cell_type": "code",
   "execution_count": 9,
   "metadata": {},
   "outputs": [
    {
     "data": {
      "text/plain": [
       "pyspark.sql.context.SQLContext"
      ]
     },
     "execution_count": 9,
     "metadata": {},
     "output_type": "execute_result"
    }
   ],
   "source": [
    "type(sqlContext)"
   ]
  },
  {
   "cell_type": "code",
   "execution_count": 38,
   "metadata": {},
   "outputs": [
    {
     "data": {
      "text/plain": [
       "['__class__',\n",
       " '__delattr__',\n",
       " '__dict__',\n",
       " '__dir__',\n",
       " '__doc__',\n",
       " '__eq__',\n",
       " '__format__',\n",
       " '__ge__',\n",
       " '__getattr__',\n",
       " '__getattribute__',\n",
       " '__getitem__',\n",
       " '__gt__',\n",
       " '__hash__',\n",
       " '__init__',\n",
       " '__init_subclass__',\n",
       " '__le__',\n",
       " '__lt__',\n",
       " '__module__',\n",
       " '__ne__',\n",
       " '__new__',\n",
       " '__reduce__',\n",
       " '__reduce_ex__',\n",
       " '__repr__',\n",
       " '__setattr__',\n",
       " '__sizeof__',\n",
       " '__str__',\n",
       " '__subclasshook__',\n",
       " '__weakref__',\n",
       " '_jcols',\n",
       " '_jdf',\n",
       " '_jmap',\n",
       " '_jseq',\n",
       " '_lazy_rdd',\n",
       " '_sc',\n",
       " '_schema',\n",
       " '_sort_cols',\n",
       " 'agg',\n",
       " 'alias',\n",
       " 'approxQuantile',\n",
       " 'cache',\n",
       " 'checkpoint',\n",
       " 'coalesce',\n",
       " 'collect',\n",
       " 'columns',\n",
       " 'corr',\n",
       " 'count',\n",
       " 'cov',\n",
       " 'createGlobalTempView',\n",
       " 'createOrReplaceGlobalTempView',\n",
       " 'createOrReplaceTempView',\n",
       " 'createTempView',\n",
       " 'crossJoin',\n",
       " 'crosstab',\n",
       " 'cube',\n",
       " 'describe',\n",
       " 'distinct',\n",
       " 'drop',\n",
       " 'dropDuplicates',\n",
       " 'drop_duplicates',\n",
       " 'dropna',\n",
       " 'dtypes',\n",
       " 'explain',\n",
       " 'fillna',\n",
       " 'filter',\n",
       " 'first',\n",
       " 'foreach',\n",
       " 'foreachPartition',\n",
       " 'freqItems',\n",
       " 'groupBy',\n",
       " 'groupby',\n",
       " 'head',\n",
       " 'hint',\n",
       " 'intersect',\n",
       " 'isLocal',\n",
       " 'isStreaming',\n",
       " 'is_cached',\n",
       " 'join',\n",
       " 'limit',\n",
       " 'na',\n",
       " 'orderBy',\n",
       " 'persist',\n",
       " 'printSchema',\n",
       " 'randomSplit',\n",
       " 'rdd',\n",
       " 'registerTempTable',\n",
       " 'repartition',\n",
       " 'replace',\n",
       " 'rollup',\n",
       " 'sample',\n",
       " 'sampleBy',\n",
       " 'schema',\n",
       " 'select',\n",
       " 'selectExpr',\n",
       " 'show',\n",
       " 'sort',\n",
       " 'sortWithinPartitions',\n",
       " 'sql_ctx',\n",
       " 'stat',\n",
       " 'storageLevel',\n",
       " 'subtract',\n",
       " 'take',\n",
       " 'toDF',\n",
       " 'toJSON',\n",
       " 'toLocalIterator',\n",
       " 'toPandas',\n",
       " 'union',\n",
       " 'unionAll',\n",
       " 'unpersist',\n",
       " 'where',\n",
       " 'withColumn',\n",
       " 'withColumnRenamed',\n",
       " 'withWatermark',\n",
       " 'write',\n",
       " 'writeStream']"
      ]
     },
     "execution_count": 38,
     "metadata": {},
     "output_type": "execute_result"
    }
   ],
   "source": [
    "dir(rawData)"
   ]
  },
  {
   "cell_type": "markdown",
   "metadata": {},
   "source": [
    "Raw data schema."
   ]
  },
  {
   "cell_type": "code",
   "execution_count": 8,
   "metadata": {},
   "outputs": [
    {
     "name": "stdout",
     "output_type": "stream",
     "text": [
      "root\n",
      " |-- 1 - State Name: string (nullable = true)\n",
      " |-- 8 - Structure Number: string (nullable = true)\n",
      " |-- 2 - Highway Agency District: string (nullable = true)\n",
      " |-- 5A - Record Type: string (nullable = true)\n",
      " |-- 5B - Route Signing Prefix: string (nullable = true)\n",
      " |-- 5C - Designated Level of Service: string (nullable = true)\n",
      " |-- 5D - Route Number: string (nullable = true)\n",
      " |-- 5E - Directional Suffix: string (nullable = true)\n",
      " |-- 6A - Features Intersected: string (nullable = true)\n",
      " |-- 6B - Critical Facility Indicator: string (nullable = true)\n",
      " |-- 7 - Facility Carried By Structure: string (nullable = true)\n",
      " |-- 9 - Location: string (nullable = true)\n",
      " |-- 10 - Inventory Rte, Min Vert Clearance: double (nullable = true)\n",
      " |-- 11 - Kilometerpoint: double (nullable = true)\n",
      " |-- 12 - Base Highway Network: string (nullable = true)\n",
      " |-- 13A - LRS Inventory Route: string (nullable = true)\n",
      " |-- 13B - Subroute Number: integer (nullable = true)\n",
      " |-- 19 - Bypass/Detour Length: integer (nullable = true)\n",
      " |-- 20 - Toll: string (nullable = true)\n",
      " |-- 21 - Maintenance Responsibility: string (nullable = true)\n",
      " |-- 22 - Owner: string (nullable = true)\n",
      " |-- 26 - Functional Class Of Inventory Rte.: string (nullable = true)\n",
      " |-- 27 - Year Built: integer (nullable = true)\n",
      " |-- 28A - Lanes On Structure: integer (nullable = true)\n",
      " |-- 28B - Lanes Under Structure: integer (nullable = true)\n",
      " |-- 29 - Average Daily Traffic: integer (nullable = true)\n",
      " |-- 30 - Year Of Average Daily Traffic: integer (nullable = true)\n",
      " |-- 31 - Design Load: string (nullable = true)\n",
      " |-- 32 - Approach Roadway Width(m): double (nullable = true)\n",
      " |-- 33 - Bridge Median: string (nullable = true)\n",
      " |-- 34 - Skew: integer (nullable = true)\n",
      " |-- 35 - Structure Flared: string (nullable = true)\n",
      " |-- 36A - Bridge Railings: string (nullable = true)\n",
      " |-- 36B - Transitions: string (nullable = true)\n",
      " |-- 36C - Approach Guardrail: string (nullable = true)\n",
      " |-- 36D - Approach Guardrail Ends: string (nullable = true)\n",
      " |-- 37 - Historic Significance: string (nullable = true)\n",
      " |-- 38 - Navigation Control: string (nullable = true)\n",
      " |-- 39 - Navigation Vertical Clearance(m): integer (nullable = true)\n",
      " |-- 40 - Navigation Horizontal Clearance(m): integer (nullable = true)\n",
      " |-- 41 - Structure Open/Posted/Closed: string (nullable = true)\n",
      " |-- 42A - Type of Service On Bridge: string (nullable = true)\n",
      " |-- 42B - Type of Service Under Bridge: string (nullable = true)\n",
      " |-- 43A - Main Span Materials: string (nullable = true)\n",
      " |-- 43B - Main Span Design: string (nullable = true)\n",
      " |-- 44A - Kind of Material/Design: string (nullable = true)\n",
      " |-- 44B - Type of Design/Construction: string (nullable = true)\n",
      " |-- 45 - Number Of Main Spans: integer (nullable = true)\n",
      " |-- 46 - Number Of Approach Spans: integer (nullable = true)\n",
      " |-- 47 - Inventory Rte Total Horz Clearance(m): double (nullable = true)\n",
      " |-- 48 - Length Of Largest Span(m): double (nullable = true)\n",
      " |-- 49 - Total Length(m): double (nullable = true)\n",
      " |-- 50A - Left Curb/Sidewalk Width(m): double (nullable = true)\n",
      " |-- 50B - Right Curb/Sidewalk Width(m): double (nullable = true)\n",
      " |-- 51 - Bridge Roadway Width Curb-To-Curb(m): double (nullable = true)\n",
      " |-- 52 - Deck Width(m): double (nullable = true)\n",
      " |-- 53 - Min Vert Clear Over Bridge Roadway: double (nullable = true)\n",
      " |-- 54A - Reference Feature: string (nullable = true)\n",
      " |-- 54B - Minimum Vertical Underclearance: double (nullable = true)\n",
      " |-- 55A - Reference Feature: string (nullable = true)\n",
      " |-- 55B - Minimum Lateral Underclearance(m): double (nullable = true)\n",
      " |-- 56 - Min Lateral Underclear On Left(m): double (nullable = true)\n",
      " |-- 58 - Deck: string (nullable = true)\n",
      " |-- 59 - Superstructure: string (nullable = true)\n",
      " |-- 60 - Substructure: string (nullable = true)\n",
      " |-- 61 - Channel/Channel Protection: string (nullable = true)\n",
      " |-- 62 - Culverts: string (nullable = true)\n",
      " |-- 63 - Method Used To Determine Operating Rating: string (nullable = true)\n",
      " |-- 64 - Operating Rating: double (nullable = true)\n",
      " |-- 65 - Method Used To Determine Inventory Rating: string (nullable = true)\n",
      " |-- 66 - Inventory Rating: integer (nullable = true)\n",
      " |-- 67 - Structural Evaluation: string (nullable = true)\n",
      " |-- 68 - Deck Geometry: string (nullable = true)\n",
      " |-- 69 - Underclear, Vertical & Horizontal: string (nullable = true)\n",
      " |-- 70 - Bridge Posting: string (nullable = true)\n",
      " |-- 71 - Waterway Adequacy: string (nullable = true)\n",
      " |-- 72 - Approach Roadway Alignment: string (nullable = true)\n",
      " |-- 75A - Type of Work Proposed: string (nullable = true)\n",
      " |-- 75B - Work Done By: string (nullable = true)\n",
      " |-- 76 - Length Of Structure Improvement(m): double (nullable = true)\n",
      " |-- 90 - Inspection Date: integer (nullable = true)\n",
      " |-- 91 - Designated Inspection Frequency: integer (nullable = true)\n",
      " |-- 92A - Fracture Critical Details: string (nullable = true)\n",
      " |-- 92B - Underwater Inspection: string (nullable = true)\n",
      " |-- 92C - Other Special Inspection: string (nullable = true)\n",
      " |-- 93A - Fracture Critical Details Date: integer (nullable = true)\n",
      " |-- 93B - Underwater Inspection Date: integer (nullable = true)\n",
      " |-- 93C - Other Special Inspection Date: integer (nullable = true)\n",
      " |-- 94 - Bridge Improvement Cost: integer (nullable = true)\n",
      " |-- 95 - Roadway Improvement Cost: integer (nullable = true)\n",
      " |-- 96 - Total Project Cost: integer (nullable = true)\n",
      " |-- 97 - Year Of Improvement Cost Estimate: integer (nullable = true)\n",
      " |-- 98A - Neighboring State Code: integer (nullable = true)\n",
      " |-- 98B - Percent Responsibility: integer (nullable = true)\n",
      " |-- 99 - Border Bridge Structure Number: string (nullable = true)\n",
      " |-- 100 - STRAHNET Highway Designation: string (nullable = true)\n",
      " |-- 101 - Parallel Structure Designation: string (nullable = true)\n",
      " |-- 102 - Direction Of Traffic: string (nullable = true)\n",
      " |-- 103 - Temporary Structure Designation: string (nullable = true)\n",
      " |-- 104 - Highway System Of Inventory Route: string (nullable = true)\n",
      " |-- 105 - Federal Lands Highways: string (nullable = true)\n",
      " |-- 106 - Year Reconstructed: integer (nullable = true)\n",
      " |-- 107 - Deck Type: string (nullable = true)\n",
      " |-- 108A - Wearing Surface: string (nullable = true)\n",
      " |-- 108B - Type of Membrane: string (nullable = true)\n",
      " |-- 108C - Deck Protection: string (nullable = true)\n",
      " |-- 110 - DESIGNATED NATIONAL NETWORK: string (nullable = true)\n",
      " |-- 111 - PIER/ABUTMENT PROTECTION: string (nullable = true)\n",
      " |-- 112 - NBIS BRIDGE LENGTH: string (nullable = true)\n",
      " |-- 113 - SCOUR CRITICAL BRIDGES: string (nullable = true)\n",
      " |-- 114 - FUTURE AVERAGE DAILY TRAFFIC: integer (nullable = true)\n",
      " |-- 115 - YEAR OF FUTURE AVG DAILY TRAFFIC: integer (nullable = true)\n",
      " |-- 116 - MINIMUM NAVIGATION VERTICAL CLEARANCE VERTICAL LIFT BRIDGE(m): integer (nullable = true)\n",
      " |-- Average Daily Truck Traffic: integer (nullable = true)\n",
      " |-- Deck Area(m²): double (nullable = true)\n",
      " |-- Bridge Age: integer (nullable = true)\n",
      " |-- Sufficiency Rating: double (nullable = true)\n",
      " |-- StatusWithout10Yr: string (nullable = true)\n",
      " |-- Number of snowfalls: integer (nullable = true)\n",
      " |-- Number of freeze-thaw cycles: integer (nullable = true)\n",
      " |-- Latitude: double (nullable = true)\n",
      " |-- Longitude: double (nullable = true)\n",
      "\n"
     ]
    }
   ],
   "source": [
    "rawData.printSchema()"
   ]
  },
  {
   "cell_type": "markdown",
   "metadata": {},
   "source": [
    "Total number of samples in the dataset."
   ]
  },
  {
   "cell_type": "code",
   "execution_count": 11,
   "metadata": {},
   "outputs": [
    {
     "data": {
      "text/plain": [
       "1202"
      ]
     },
     "execution_count": 11,
     "metadata": {},
     "output_type": "execute_result"
    }
   ],
   "source": [
    "rawData.count()"
   ]
  },
  {
   "cell_type": "markdown",
   "metadata": {},
   "source": [
    "Determine states in sample dataset."
   ]
  },
  {
   "cell_type": "code",
   "execution_count": 29,
   "metadata": {},
   "outputs": [
    {
     "name": "stdout",
     "output_type": "stream",
     "text": [
      "+-------------------+-----+\n",
      "|     1 - State Name|count|\n",
      "+-------------------+-----+\n",
      "|       30 - Montana|   39|\n",
      "|        32 - Nevada|   26|\n",
      "|      17 - Illinois|   60|\n",
      "|     55 - Wisconsin|   41|\n",
      "| 54 - West Virginia|    8|\n",
      "|  42 - Pennsylvania|   24|\n",
      "|     47 - Tennessee|   62|\n",
      "|      21 - Kentucky|   54|\n",
      "|         48 - Texas|   60|\n",
      "|          49 - Utah|   51|\n",
      "|        4 - Arizona|   26|\n",
      "|     6 - California|   60|\n",
      "|  44 - Rhode Island|    2|\n",
      "|      26 - Michigan|   34|\n",
      "|     27 - Minnesota|   26|\n",
      "|  46 - South Dakota|   13|\n",
      "|   28 - Mississippi|   30|\n",
      "|37 - North Carolina|   50|\n",
      "|         16 - Idaho|   20|\n",
      "|        20 - Kansas|    2|\n",
      "|     22 - Louisiana|   15|\n",
      "|        1 - Alabama|   24|\n",
      "|      24 - Maryland|   20|\n",
      "| 25 - Massachusetts|   15|\n",
      "|       18 - Indiana|   60|\n",
      "|       12 - Florida|   28|\n",
      "|          39 - Ohio|   51|\n",
      "|       56 - Wyoming|   60|\n",
      "|        41 - Oregon|   11|\n",
      "|       5 - Arkansas|   42|\n",
      "|      51 - Virginia|   33|\n",
      "|       13 - Georgia|    1|\n",
      "|      31 - Nebraska|   19|\n",
      "|    53 - Washington|   31|\n",
      "|          19 - Iowa|   36|\n",
      "|    34 - New Jersey|    4|\n",
      "|       8 - Colorado|   37|\n",
      "|      40 - Oklahoma|   12|\n",
      "|      29 - Missouri|    7|\n",
      "|      10 - Delaware|    6|\n",
      "|         23 - Maine|    2|\n",
      "+-------------------+-----+\n",
      "\n"
     ]
    }
   ],
   "source": [
    "rawData.groupBy(\"1 - State Name\").count().show(n=50)"
   ]
  },
  {
   "cell_type": "code",
   "execution_count": 73,
   "metadata": {},
   "outputs": [
    {
     "data": {
      "text/html": [
       "<iframe id=\"igraph\" scrolling=\"no\" style=\"border:none;\" seamless=\"seamless\" src=\"https://plot.ly/~nick_romano/78.embed\" height=\"525px\" width=\"100%\"></iframe>"
      ],
      "text/plain": [
       "<plotly.tools.PlotlyDisplay object>"
      ]
     },
     "execution_count": 73,
     "metadata": {},
     "output_type": "execute_result"
    }
   ],
   "source": [
    "x = rawData.toPandas()[\"1 - State Name\"]\n",
    "z = rawData.toPandas()[\"58 - Deck\"]\n",
    "rtg = [int(z[i][0]) for i in range(0,len(z))]\n",
    "# states = [x[i][4:] for i in range(0,len(x))]\n",
    "\n",
    "data = [dict(type='choropleth',autocolorscale = True,\n",
    "        locations = states, z = rtg, locationmode = 'USA-states',\n",
    "        marker = dict(line = dict(color = 'rgb(255,255,255)',width = 2)),\n",
    "        colorbar = dict(title = \"Deck Condition Ratings\"))]\n",
    "\n",
    "layout = dict(\n",
    "        title = 'Deck Condition Ratings for Sample Dataset',\n",
    "        geo = dict(\n",
    "            scope='usa',\n",
    "            projection=dict( type='albers usa' ),\n",
    "            showlakes = True,\n",
    "            lakecolor = 'rgb(255, 255, 255)'),\n",
    "             )\n",
    "    \n",
    "fig = dict( data=data, layout=layout )\n",
    "plotly.plotly.iplot(fig, filename='cloropleth-map' )"
   ]
  },
  {
   "cell_type": "code",
   "execution_count": 28,
   "metadata": {},
   "outputs": [
    {
     "name": "stdout",
     "output_type": "stream",
     "text": [
      "+--------------------+-----+\n",
      "|           58 - Deck|count|\n",
      "+--------------------+-----+\n",
      "|  4 - POOR CONDITION|   14|\n",
      "|6 - SATISFACTORY ...|  285|\n",
      "|  5 - FAIR CONDITION|   93|\n",
      "|8 - VERY GOOD CON...|  186|\n",
      "|3 - SERIOUS CONDI...|    3|\n",
      "|  7 - GOOD CONDITION|  607|\n",
      "|9 - EXCELLENT CON...|   14|\n",
      "+--------------------+-----+\n",
      "\n"
     ]
    }
   ],
   "source": [
    "rawData.groupBy(\"58 - Deck\").count().show(n=50)"
   ]
  },
  {
   "cell_type": "code",
   "execution_count": 46,
   "metadata": {},
   "outputs": [
    {
     "data": {
      "text/html": [
       "<iframe id=\"igraph\" scrolling=\"no\" style=\"border:none;\" seamless=\"seamless\" src=\"https://plot.ly/~nick_romano/74.embed\" height=\"525px\" width=\"100%\"></iframe>"
      ],
      "text/plain": [
       "<plotly.tools.PlotlyDisplay object>"
      ]
     },
     "execution_count": 46,
     "metadata": {},
     "output_type": "execute_result"
    }
   ],
   "source": [
    "x=rawData.toPandas()['58 - Deck']\n",
    "data = [plotly.graph_objs.Histogram(x=x)]\n",
    "plotly.plotly.iplot(data)"
   ]
  },
  {
   "cell_type": "code",
   "execution_count": null,
   "metadata": {
    "collapsed": true
   },
   "outputs": [],
   "source": []
  }
 ],
 "metadata": {
  "kernelspec": {
   "display_name": "Python 3",
   "language": "python",
   "name": "python3"
  },
  "language_info": {
   "codemirror_mode": {
    "name": "ipython",
    "version": 3
   },
   "file_extension": ".py",
   "mimetype": "text/x-python",
   "name": "python",
   "nbconvert_exporter": "python",
   "pygments_lexer": "ipython3",
   "version": "3.6.1"
  }
 },
 "nbformat": 4,
 "nbformat_minor": 2
}
