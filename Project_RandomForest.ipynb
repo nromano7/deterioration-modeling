{
 "cells": [
  {
   "cell_type": "code",
   "execution_count": 1,
   "metadata": {
    "collapsed": true
   },
   "outputs": [],
   "source": [
    "from sklearn.ensemble import RandomForestClassifier\n",
    "from sklearn.metrics import f1_score, precision_score, recall_score, accuracy_score, make_scorer\n",
    "from sklearn.model_selection import train_test_split, GridSearchCV\n",
    "import pandas as pd\n",
    "import numpy as np\n",
    "import matplotlib.pyplot as plt\n",
    "%matplotlib inline\n",
    "%run initialize_interactivity"
   ]
  },
  {
   "cell_type": "code",
   "execution_count": 2,
   "metadata": {
    "collapsed": true
   },
   "outputs": [],
   "source": [
    "RAW_DATA_PATH = './nation_data.xlsx'\n",
    "RANDOM_SEED = 0"
   ]
  },
  {
   "cell_type": "code",
   "execution_count": 3,
   "metadata": {
    "collapsed": true
   },
   "outputs": [],
   "source": [
    "def load_data(path):\n",
    "    \n",
    "    ''' Load and preprocess the data '''\n",
    "    \n",
    "    # create dataframe\n",
    "    raw_data = pd.read_excel(path)\n",
    "\n",
    "    # drop unwated columns\n",
    "    raw_data.drop(['8 - Structure Number'],axis=1,inplace=True)\n",
    "\n",
    "    # drop columns with nan\n",
    "    raw_data.dropna(axis=1,how='all',inplace=True)\n",
    "\n",
    "    # fill nan values with 0\n",
    "    raw_data.fillna(value=0, inplace=True)\n",
    "\n",
    "    # replace 0 values with error code\n",
    "    replace = {'58 - Deck': {0 : '99 - Null Value'}}\n",
    "    raw_data.replace(to_replace=replace, inplace=True)\n",
    "\n",
    "    # factorize categorical variables and create dict of preprocessed data\n",
    "    cat_data = {}\n",
    "    data_dict = {}\n",
    "    for i,x in enumerate(raw_data.dtypes.values): \n",
    "        col = raw_data.columns[i] \n",
    "        if x == object:        \n",
    "            cat_data[col] = pd.factorize(raw_data[col])\n",
    "            data_dict[col] = cat_data[col][0]\n",
    "        else:\n",
    "            data_dict[col] = raw_data[col]\n",
    "            \n",
    "    data = pd.DataFrame(data_dict)\n",
    "    \n",
    "    return data, cat_data"
   ]
  },
  {
   "cell_type": "code",
   "execution_count": 4,
   "metadata": {
    "collapsed": true
   },
   "outputs": [],
   "source": [
    "def get_test_train(data, test_size = 0.4, RANDOM_SEED = 0, verbose = False):\n",
    "    \n",
    "    ''' Get train and test datasets '''\n",
    "    \n",
    "    # extract features and targets\n",
    "    features = data.drop(['58 - Deck'],axis=1)\n",
    "    target = data['58 - Deck']\n",
    "\n",
    "    # get train/test split\n",
    "    train_X, test_X, train_y, test_y = train_test_split(features, target, test_size=test_size, random_state=RANDOM_SEED)\n",
    "    \n",
    "    # print sizes\n",
    "    if verbose:\n",
    "        print('Size of training set:', len(train_y))\n",
    "        print('Size of test set:',len(test_y))\n",
    "    \n",
    "    return train_X, test_X, train_y, test_y"
   ]
  },
  {
   "cell_type": "code",
   "execution_count": 5,
   "metadata": {
    "collapsed": true
   },
   "outputs": [],
   "source": [
    "def get_cross_val(test_X, test_y, test_size = 0.5, RANDOM_SEED = 0, verbose = False):\n",
    "    \n",
    "    ''' Get cross-val and test datasets '''\n",
    "    \n",
    "    # get train/test split\n",
    "    test_X, cross_X, test_y, cross_y = train_test_split(test_X, test_y, test_size=test_size, random_state=RANDOM_SEED)\n",
    "    \n",
    "    # print sizes\n",
    "    if verbose:\n",
    "        print('Size of cross-validation set:',len(cross_y))\n",
    "        print('New size of test set:', len(test_y))\n",
    "\n",
    "    return test_X, cross_X, test_y, cross_y"
   ]
  },
  {
   "cell_type": "code",
   "execution_count": 6,
   "metadata": {
    "collapsed": true
   },
   "outputs": [],
   "source": [
    "def train_clf(train_X, train_y, \n",
    "              n_estimators = 10, criterion = 'gini', \n",
    "              max_features = 'auto', max_depth = None, \n",
    "              n_jobs = 2, verbose = False):\n",
    "    \n",
    "    ''' Create and train  Random Forest Classifier with given tuning parameters '''\n",
    "    \n",
    "    # create random forest classifier\n",
    "    clf = RandomForestClassifier(n_estimators = n_estimators, \n",
    "                                 criterion = criterion,\n",
    "                                 max_features = max_features, \n",
    "                                 max_depth = max_depth, \n",
    "                                 n_jobs = n_jobs)\n",
    "    \n",
    "    # train the classifier\n",
    "    clf.fit(train_X, train_y)\n",
    "    \n",
    "    # print train accuracy\n",
    "    train_accuracy = round(accuracy_score(train_y, clf.predict(train_X)),4)\n",
    "    \n",
    "    # print train accuracy\n",
    "    if verbose:\n",
    "        print(f'Train Accuracy = {train_accuracy}') #train\n",
    "    \n",
    "    return clf"
   ]
  },
  {
   "cell_type": "code",
   "execution_count": 7,
   "metadata": {
    "collapsed": true
   },
   "outputs": [],
   "source": [
    "def test_clf(test_X, test_y, clf, cat_data, verbose=False):\n",
    "    \n",
    "    ''' Test the Random Forest Classifier '''\n",
    "    \n",
    "    # get predictions\n",
    "    predict = clf.predict(test_X)\n",
    "    \n",
    "    # convert target names back to condition indices\n",
    "    cond_index = cat_data['58 - Deck'][1][predict]\n",
    "    \n",
    "    # precision, recall and f1 scores\n",
    "    precision = precision_score(test_y, predict, average='weighted')\n",
    "    recall  =recall_score(test_y, predict, average='weighted')\n",
    "    f1 = f1_score(test_y, predict, average='weighted')\n",
    "    \n",
    "    # print scores\n",
    "    if verbose:\n",
    "        print(\"Precision: %1.5f\" % precision)\n",
    "        print(\"Recall: %1.5f\" % recall)\n",
    "        print(\"F1: %1.5f\\n\" % f1)\n",
    "    \n",
    "    return predict, cond_index, precision, recall, f1"
   ]
  },
  {
   "cell_type": "code",
   "execution_count": 8,
   "metadata": {
    "collapsed": true
   },
   "outputs": [],
   "source": [
    "def get_feature_importances(top = 10, plot = False, df = False):\n",
    "    \n",
    "    importances = sorted((val,i) for i,val in enumerate(clf.feature_importances_))\n",
    "    importances = pd.DataFrame(importances, columns=[\"Importance\", \"Index\"])\n",
    "    top_ = importances.tail(top)\n",
    "    features = test_X.columns.values[top_['Index']];\n",
    "    \n",
    "    if plot:   \n",
    "        plt.rcParams['figure.figsize'] = [10,8]\n",
    "        x = range(top_.shape[0])\n",
    "        y = top_['Importance']\n",
    "        fig, ax = plt.subplots();   \n",
    "        y_pos = np.arange(len(features));\n",
    "        ax.barh(y_pos, y, align='center', ecolor='black');\n",
    "        ax.set_yticks(y_pos);\n",
    "        ax.set_yticklabels(features);\n",
    "        ax.set_xlabel('Feature Importances');\n",
    "        ax.set_title(f'Top {top} Feature Importances');\n",
    "    elif df:\n",
    "        return pd.DataFrame({\"Feature\":features[::-1],\"Importance\":top_[\"Importance\"][::-1]})       \n",
    "    else:\n",
    "        return top['Importance'], features"
   ]
  },
  {
   "cell_type": "code",
   "execution_count": 9,
   "metadata": {
    "collapsed": true
   },
   "outputs": [],
   "source": [
    "data, cat_data = load_data(RAW_DATA_PATH)"
   ]
  },
  {
   "cell_type": "markdown",
   "metadata": {},
   "source": [
    "## Initial training\n",
    "Train Random Forest Classifier using default tuning parameters."
   ]
  },
  {
   "cell_type": "code",
   "execution_count": 10,
   "metadata": {},
   "outputs": [
    {
     "name": "stdout",
     "output_type": "stream",
     "text": [
      "Size of training set: 76928\n",
      "Size of test set: 51286\n"
     ]
    }
   ],
   "source": [
    "train_X, test_X, train_y, test_y = get_test_train(data, test_size = 0.4, RANDOM_SEED = RANDOM_SEED, verbose = True)\n",
    "# test_X, cross_X, test_y, cross_y = get_cross_val(test_X, test_y, test_size = 0.5, RANDOM_SEED = RANDOM_SEED)"
   ]
  },
  {
   "cell_type": "code",
   "execution_count": 11,
   "metadata": {},
   "outputs": [
    {
     "name": "stdout",
     "output_type": "stream",
     "text": [
      "Train Accuracy = 0.9894\n",
      "Precision: 0.57345\n",
      "Recall: 0.56608\n",
      "F1: 0.56353\n",
      "\n"
     ]
    }
   ],
   "source": [
    "clf = train_clf(train_X, train_y, n_estimators = 10, criterion = 'gini', max_features = 'auto', max_depth = None, n_jobs = 2, verbose = True)\n",
    "predict, cond_index, precision, recall, f1 = test_clf(test_X, test_y, clf, cat_data, verbose = True)"
   ]
  },
  {
   "cell_type": "code",
   "execution_count": 12,
   "metadata": {},
   "outputs": [
    {
     "data": {
      "text/html": [
       "<div>\n",
       "<style>\n",
       "    .dataframe thead tr:only-child th {\n",
       "        text-align: right;\n",
       "    }\n",
       "\n",
       "    .dataframe thead th {\n",
       "        text-align: left;\n",
       "    }\n",
       "\n",
       "    .dataframe tbody tr th {\n",
       "        vertical-align: top;\n",
       "    }\n",
       "</style>\n",
       "<table border=\"1\" class=\"dataframe\">\n",
       "  <thead>\n",
       "    <tr style=\"text-align: right;\">\n",
       "      <th></th>\n",
       "      <th>Feature</th>\n",
       "      <th>Importance</th>\n",
       "    </tr>\n",
       "  </thead>\n",
       "  <tbody>\n",
       "    <tr>\n",
       "      <th>118</th>\n",
       "      <td>59 - Superstructure</td>\n",
       "      <td>0.047924</td>\n",
       "    </tr>\n",
       "    <tr>\n",
       "      <th>117</th>\n",
       "      <td>Bridge Age</td>\n",
       "      <td>0.035175</td>\n",
       "    </tr>\n",
       "    <tr>\n",
       "      <th>116</th>\n",
       "      <td>48 - Length Of Largest Span(ft)</td>\n",
       "      <td>0.029687</td>\n",
       "    </tr>\n",
       "    <tr>\n",
       "      <th>115</th>\n",
       "      <td>52 - Deck Width(ft)</td>\n",
       "      <td>0.028965</td>\n",
       "    </tr>\n",
       "    <tr>\n",
       "      <th>114</th>\n",
       "      <td>43B - Main Span Design</td>\n",
       "      <td>0.028763</td>\n",
       "    </tr>\n",
       "    <tr>\n",
       "      <th>113</th>\n",
       "      <td>107 - Deck Type</td>\n",
       "      <td>0.028061</td>\n",
       "    </tr>\n",
       "    <tr>\n",
       "      <th>112</th>\n",
       "      <td>Sufficiency Rating</td>\n",
       "      <td>0.028054</td>\n",
       "    </tr>\n",
       "    <tr>\n",
       "      <th>111</th>\n",
       "      <td>60 - Substructure</td>\n",
       "      <td>0.028032</td>\n",
       "    </tr>\n",
       "    <tr>\n",
       "      <th>110</th>\n",
       "      <td>27 - Year Built</td>\n",
       "      <td>0.026577</td>\n",
       "    </tr>\n",
       "    <tr>\n",
       "      <th>109</th>\n",
       "      <td>51 - Bridge Roadway Width Curb-To-Curb(ft)</td>\n",
       "      <td>0.023033</td>\n",
       "    </tr>\n",
       "    <tr>\n",
       "      <th>108</th>\n",
       "      <td>Latitude</td>\n",
       "      <td>0.022588</td>\n",
       "    </tr>\n",
       "    <tr>\n",
       "      <th>107</th>\n",
       "      <td>67 - Structural Evaluation</td>\n",
       "      <td>0.021765</td>\n",
       "    </tr>\n",
       "    <tr>\n",
       "      <th>106</th>\n",
       "      <td>Longitude</td>\n",
       "      <td>0.021364</td>\n",
       "    </tr>\n",
       "    <tr>\n",
       "      <th>105</th>\n",
       "      <td>Deck Area(ft²)</td>\n",
       "      <td>0.020176</td>\n",
       "    </tr>\n",
       "    <tr>\n",
       "      <th>104</th>\n",
       "      <td>49 - Total Length(ft)</td>\n",
       "      <td>0.019549</td>\n",
       "    </tr>\n",
       "  </tbody>\n",
       "</table>\n",
       "</div>"
      ],
      "text/plain": [
       "                                        Feature  Importance\n",
       "118                         59 - Superstructure    0.047924\n",
       "117                                  Bridge Age    0.035175\n",
       "116             48 - Length Of Largest Span(ft)    0.029687\n",
       "115                         52 - Deck Width(ft)    0.028965\n",
       "114                      43B - Main Span Design    0.028763\n",
       "113                             107 - Deck Type    0.028061\n",
       "112                          Sufficiency Rating    0.028054\n",
       "111                           60 - Substructure    0.028032\n",
       "110                             27 - Year Built    0.026577\n",
       "109  51 - Bridge Roadway Width Curb-To-Curb(ft)    0.023033\n",
       "108                                    Latitude    0.022588\n",
       "107                  67 - Structural Evaluation    0.021765\n",
       "106                                   Longitude    0.021364\n",
       "105                              Deck Area(ft²)    0.020176\n",
       "104                       49 - Total Length(ft)    0.019549"
      ]
     },
     "execution_count": 12,
     "metadata": {},
     "output_type": "execute_result"
    }
   ],
   "source": [
    "get_feature_importances(top = 15, df = True)"
   ]
  },
  {
   "cell_type": "code",
   "execution_count": 13,
   "metadata": {},
   "outputs": [
    {
     "data": {
      "image/png": "[encoded data removed]",
      "text/plain": [
       "<matplotlib.figure.Figure at 0x1b754f0c9b0>"
      ]
     },
     "metadata": {},
     "output_type": "display_data"
    }
   ],
   "source": [
    "get_feature_importances(top = 15, plot = True)"
   ]
  },
  {
   "cell_type": "markdown",
   "metadata": {},
   "source": [
    "## Hyper-parameter Tuning\n",
    "The parameters that will be tuned are n_estimators, criterion, and max_features. "
   ]
  },
  {
   "cell_type": "code",
   "execution_count": 14,
   "metadata": {
    "collapsed": true
   },
   "outputs": [],
   "source": [
    "# get test and train stes\n",
    "train_X, test_X, train_y, test_y = get_test_train(data, test_size = 0.4, RANDOM_SEED = RANDOM_SEED)\n",
    "\n",
    "# train classifier\n",
    "clf_train = train_clf(train_X, train_y)"
   ]
  },
  {
   "cell_type": "code",
   "execution_count": 15,
   "metadata": {
    "collapsed": true
   },
   "outputs": [],
   "source": [
    "# create dictionary of tuning parameters\n",
    "tuning_parameters = {'n_estimators': [10,100,500], \n",
    "                     'criterion': ['gini', 'entropy'], \n",
    "                     'max_features': [0.1, 0.25, 0.5]}\n",
    "\n",
    "# get scoring function\n",
    "#f1_scorer = make_scorer(f1_score)\n",
    "\n",
    "# use grid search cross validation with f1 scoring to evaluate tuning parameters \n",
    "clf_cv = GridSearchCV(clf_train, param_grid=tuning_parameters, n_jobs = 2)"
   ]
  },
  {
   "cell_type": "code",
   "execution_count": 16,
   "metadata": {},
   "outputs": [
    {
     "data": {
      "text/plain": [
       "GridSearchCV(cv=None, error_score='raise',\n",
       "       estimator=RandomForestClassifier(bootstrap=True, class_weight=None, criterion='gini',\n",
       "            max_depth=None, max_features='auto', max_leaf_nodes=None,\n",
       "            min_impurity_split=1e-07, min_samples_leaf=1,\n",
       "            min_samples_split=2, min_weight_fraction_leaf=0.0,\n",
       "            n_estimators=10, n_jobs=2, oob_score=False, random_state=None,\n",
       "            verbose=0, warm_start=False),\n",
       "       fit_params={}, iid=True, n_jobs=2,\n",
       "       param_grid={'n_estimators': [10, 100, 500], 'criterion': ['gini', 'entropy'], 'max_features': [0.1, 0.25, 0.5]},\n",
       "       pre_dispatch='2*n_jobs', refit=True, return_train_score=True,\n",
       "       scoring=None, verbose=0)"
      ]
     },
     "execution_count": 16,
     "metadata": {},
     "output_type": "execute_result"
    },
    {
     "data": {
      "text/plain": [
       "0.62830012089069143"
      ]
     },
     "execution_count": 16,
     "metadata": {},
     "output_type": "execute_result"
    }
   ],
   "source": [
    "# train the classifier using the training set\n",
    "clf_cv.fit(train_X, train_y);\n",
    "\n",
    "# test the trained classifier using test set\n",
    "clf_cv.score(test_X, test_y)"
   ]
  },
  {
   "cell_type": "code",
   "execution_count": 17,
   "metadata": {},
   "outputs": [
    {
     "name": "stdout",
     "output_type": "stream",
     "text": [
      "Best score for training set: 0.6196443427620633\n",
      "Best n_estimators: 500\n",
      "Best criterion: entropy\n",
      "Best max_features: 0.25\n"
     ]
    }
   ],
   "source": [
    "# print results for best parameter choices\n",
    "print(f'Best score for training set: {clf_cv.best_score_}')\n",
    "print(f'Best n_estimators: {clf_cv.best_estimator_.n_estimators}') \n",
    "print(f'Best criterion: {clf_cv.best_estimator_.criterion}')\n",
    "print(f'Best max_features: {clf_cv.best_estimator_.max_features}')"
   ]
  },
  {
   "cell_type": "code",
   "execution_count": 18,
   "metadata": {},
   "outputs": [
    {
     "data": {
      "text/plain": [
       "0.62980150528409318"
      ]
     },
     "execution_count": 18,
     "metadata": {},
     "output_type": "execute_result"
    }
   ],
   "source": [
    "# train a new classifier with the best tuning parameters\n",
    "RandomForestClassifier(n_estimators = clf_cv.best_estimator_.n_estimators, \n",
    "                       criterion = clf_cv.best_estimator_.criterion,\n",
    "                       max_features = clf_cv.best_estimator_.max_features).fit(train_X, train_y).score(test_X,test_y)"
   ]
  },
  {
   "cell_type": "code",
   "execution_count": null,
   "metadata": {
    "collapsed": true
   },
   "outputs": [],
   "source": []
  }
 ],
 "metadata": {
  "kernelspec": {
   "display_name": "Python 3",
   "language": "python",
   "name": "python3"
  },
  "language_info": {
   "codemirror_mode": {
    "name": "ipython",
    "version": 3
   },
   "file_extension": ".py",
   "mimetype": "text/x-python",
   "name": "python",
   "nbconvert_exporter": "python",
   "pygments_lexer": "ipython3",
   "version": "3.6.1"
  }
 },
 "nbformat": 4,
 "nbformat_minor": 2
}
