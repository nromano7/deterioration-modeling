{
 "cells": [
  {
   "cell_type": "markdown",
   "metadata": {},
   "source": [
    "REF: https://chrisalbon.com/machine-learning/random_forest_classifier_example_scikit.html"
   ]
  },
  {
   "cell_type": "markdown",
   "metadata": {},
   "source": [
    "# Preliminaries"
   ]
  },
  {
   "cell_type": "code",
   "execution_count": 1,
   "metadata": {
    "collapsed": true
   },
   "outputs": [],
   "source": [
    "# Load scikit's random forest classifier library\n",
    "from sklearn.ensemble import RandomForestClassifier\n",
    "\n",
    "# Load pandas\n",
    "import pandas as pd\n",
    "\n",
    "# Load numpy\n",
    "import numpy as np\n",
    "\n",
    "# Set random seed\n",
    "np.random.seed(0)"
   ]
  },
  {
   "cell_type": "markdown",
   "metadata": {},
   "source": [
    "# Load Data & Pre-process"
   ]
  },
  {
   "cell_type": "code",
   "execution_count": 3,
   "metadata": {},
   "outputs": [
    {
     "data": {
      "text/html": [
       "<div>\n",
       "<style>\n",
       "    .dataframe thead tr:only-child th {\n",
       "        text-align: right;\n",
       "    }\n",
       "\n",
       "    .dataframe thead th {\n",
       "        text-align: left;\n",
       "    }\n",
       "\n",
       "    .dataframe tbody tr th {\n",
       "        vertical-align: top;\n",
       "    }\n",
       "</style>\n",
       "<table border=\"1\" class=\"dataframe\">\n",
       "  <thead>\n",
       "    <tr style=\"text-align: right;\">\n",
       "      <th></th>\n",
       "      <th>1 - State Name</th>\n",
       "      <th>8 - Structure Number</th>\n",
       "      <th>22 - Owner</th>\n",
       "      <th>27 - Year Built</th>\n",
       "      <th>29 - Average Daily Traffic</th>\n",
       "      <th>34 - Skew</th>\n",
       "      <th>43A - Main Span Materials</th>\n",
       "      <th>45 - Number Of Main Spans</th>\n",
       "      <th>48 - Length Of Largest Span(m)</th>\n",
       "      <th>52 - Deck Width(m)</th>\n",
       "      <th>58 - Deck</th>\n",
       "    </tr>\n",
       "  </thead>\n",
       "  <tbody>\n",
       "    <tr>\n",
       "      <th>0</th>\n",
       "      <td>1 - Alabama</td>\n",
       "      <td>000203</td>\n",
       "      <td>2 - County Highway Agency</td>\n",
       "      <td>1922</td>\n",
       "      <td>50</td>\n",
       "      <td>0</td>\n",
       "      <td>3 - Steel</td>\n",
       "      <td>1</td>\n",
       "      <td>9.8</td>\n",
       "      <td>4.1</td>\n",
       "      <td>5 - FAIR CONDITION</td>\n",
       "    </tr>\n",
       "    <tr>\n",
       "      <th>1</th>\n",
       "      <td>1 - Alabama</td>\n",
       "      <td>000206</td>\n",
       "      <td>2 - County Highway Agency</td>\n",
       "      <td>1922</td>\n",
       "      <td>70</td>\n",
       "      <td>0</td>\n",
       "      <td>3 - Steel</td>\n",
       "      <td>1</td>\n",
       "      <td>11.9</td>\n",
       "      <td>5.5</td>\n",
       "      <td>5 - FAIR CONDITION</td>\n",
       "    </tr>\n",
       "    <tr>\n",
       "      <th>2</th>\n",
       "      <td>1 - Alabama</td>\n",
       "      <td>000233</td>\n",
       "      <td>2 - County Highway Agency</td>\n",
       "      <td>1924</td>\n",
       "      <td>505</td>\n",
       "      <td>0</td>\n",
       "      <td>3 - Steel</td>\n",
       "      <td>1</td>\n",
       "      <td>7.0</td>\n",
       "      <td>7.0</td>\n",
       "      <td>5 - FAIR CONDITION</td>\n",
       "    </tr>\n",
       "    <tr>\n",
       "      <th>3</th>\n",
       "      <td>1 - Alabama</td>\n",
       "      <td>000258</td>\n",
       "      <td>2 - County Highway Agency</td>\n",
       "      <td>1925</td>\n",
       "      <td>45</td>\n",
       "      <td>0</td>\n",
       "      <td>3 - Steel</td>\n",
       "      <td>1</td>\n",
       "      <td>12.8</td>\n",
       "      <td>4.5</td>\n",
       "      <td>6 - SATISFACTORY CONDITION</td>\n",
       "    </tr>\n",
       "    <tr>\n",
       "      <th>4</th>\n",
       "      <td>1 - Alabama</td>\n",
       "      <td>000317</td>\n",
       "      <td>2 - County Highway Agency</td>\n",
       "      <td>1925</td>\n",
       "      <td>115</td>\n",
       "      <td>0</td>\n",
       "      <td>3 - Steel</td>\n",
       "      <td>1</td>\n",
       "      <td>18.3</td>\n",
       "      <td>4.0</td>\n",
       "      <td>6 - SATISFACTORY CONDITION</td>\n",
       "    </tr>\n",
       "  </tbody>\n",
       "</table>\n",
       "</div>"
      ],
      "text/plain": [
       "  1 - State Name 8 - Structure Number                 22 - Owner  \\\n",
       "0    1 - Alabama               000203  2 - County Highway Agency   \n",
       "1    1 - Alabama               000206  2 - County Highway Agency   \n",
       "2    1 - Alabama               000233  2 - County Highway Agency   \n",
       "3    1 - Alabama               000258  2 - County Highway Agency   \n",
       "4    1 - Alabama               000317  2 - County Highway Agency   \n",
       "\n",
       "   27 - Year Built  29 - Average Daily Traffic  34 - Skew  \\\n",
       "0             1922                          50          0   \n",
       "1             1922                          70          0   \n",
       "2             1924                         505          0   \n",
       "3             1925                          45          0   \n",
       "4             1925                         115          0   \n",
       "\n",
       "  43A - Main Span Materials  45 - Number Of Main Spans  \\\n",
       "0                 3 - Steel                          1   \n",
       "1                 3 - Steel                          1   \n",
       "2                 3 - Steel                          1   \n",
       "3                 3 - Steel                          1   \n",
       "4                 3 - Steel                          1   \n",
       "\n",
       "   48 - Length Of Largest Span(m)  52 - Deck Width(m)  \\\n",
       "0                             9.8                 4.1   \n",
       "1                            11.9                 5.5   \n",
       "2                             7.0                 7.0   \n",
       "3                            12.8                 4.5   \n",
       "4                            18.3                 4.0   \n",
       "\n",
       "                    58 - Deck  \n",
       "0          5 - FAIR CONDITION  \n",
       "1          5 - FAIR CONDITION  \n",
       "2          5 - FAIR CONDITION  \n",
       "3  6 - SATISFACTORY CONDITION  \n",
       "4  6 - SATISFACTORY CONDITION  "
      ]
     },
     "execution_count": 3,
     "metadata": {},
     "output_type": "execute_result"
    }
   ],
   "source": [
    "# Create a dataframe with the raw exported data\n",
    "data = pd.read_csv('./nation_data.csv')\n",
    "\n",
    "# View the top 5 rows\n",
    "data.head()"
   ]
  },
  {
   "cell_type": "code",
   "execution_count": null,
   "metadata": {},
   "outputs": [],
   "source": []
  },
  {
   "cell_type": "code",
   "execution_count": 3,
   "metadata": {},
   "outputs": [
    {
     "data": {
      "text/html": [
       "<div>\n",
       "<style>\n",
       "    .dataframe thead tr:only-child th {\n",
       "        text-align: right;\n",
       "    }\n",
       "\n",
       "    .dataframe thead th {\n",
       "        text-align: left;\n",
       "    }\n",
       "\n",
       "    .dataframe tbody tr th {\n",
       "        vertical-align: top;\n",
       "    }\n",
       "</style>\n",
       "<table border=\"1\" class=\"dataframe\">\n",
       "  <thead>\n",
       "    <tr style=\"text-align: right;\">\n",
       "      <th></th>\n",
       "      <th>year_built</th>\n",
       "      <th>adt</th>\n",
       "      <th>skew</th>\n",
       "      <th>span_length</th>\n",
       "      <th>deck_width</th>\n",
       "      <th>deck_rating</th>\n",
       "      <th>deck_rating2</th>\n",
       "    </tr>\n",
       "  </thead>\n",
       "  <tbody>\n",
       "    <tr>\n",
       "      <th>0</th>\n",
       "      <td>1970</td>\n",
       "      <td>2081</td>\n",
       "      <td>15</td>\n",
       "      <td>39.6</td>\n",
       "      <td>18.1</td>\n",
       "      <td>6 - SATISFACTORY CONDITION</td>\n",
       "      <td>0</td>\n",
       "    </tr>\n",
       "    <tr>\n",
       "      <th>1</th>\n",
       "      <td>1941</td>\n",
       "      <td>11268</td>\n",
       "      <td>12</td>\n",
       "      <td>11.6</td>\n",
       "      <td>15.4</td>\n",
       "      <td>5 - FAIR CONDITION</td>\n",
       "      <td>1</td>\n",
       "    </tr>\n",
       "    <tr>\n",
       "      <th>2</th>\n",
       "      <td>1930</td>\n",
       "      <td>8834</td>\n",
       "      <td>0</td>\n",
       "      <td>9.4</td>\n",
       "      <td>13.4</td>\n",
       "      <td>5 - FAIR CONDITION</td>\n",
       "      <td>1</td>\n",
       "    </tr>\n",
       "    <tr>\n",
       "      <th>3</th>\n",
       "      <td>1929</td>\n",
       "      <td>15197</td>\n",
       "      <td>0</td>\n",
       "      <td>9.8</td>\n",
       "      <td>10.2</td>\n",
       "      <td>5 - FAIR CONDITION</td>\n",
       "      <td>1</td>\n",
       "    </tr>\n",
       "    <tr>\n",
       "      <th>4</th>\n",
       "      <td>1934</td>\n",
       "      <td>5861</td>\n",
       "      <td>0</td>\n",
       "      <td>11.3</td>\n",
       "      <td>10.3</td>\n",
       "      <td>6 - SATISFACTORY CONDITION</td>\n",
       "      <td>0</td>\n",
       "    </tr>\n",
       "  </tbody>\n",
       "</table>\n",
       "</div>"
      ],
      "text/plain": [
       "   year_built    adt  skew  span_length  deck_width  \\\n",
       "0        1970   2081    15         39.6        18.1   \n",
       "1        1941  11268    12         11.6        15.4   \n",
       "2        1930   8834     0          9.4        13.4   \n",
       "3        1929  15197     0          9.8        10.2   \n",
       "4        1934   5861     0         11.3        10.3   \n",
       "\n",
       "                  deck_rating  deck_rating2  \n",
       "0  6 - SATISFACTORY CONDITION             0  \n",
       "1          5 - FAIR CONDITION             1  \n",
       "2          5 - FAIR CONDITION             1  \n",
       "3          5 - FAIR CONDITION             1  \n",
       "4  6 - SATISFACTORY CONDITION             0  "
      ]
     },
     "execution_count": 3,
     "metadata": {},
     "output_type": "execute_result"
    }
   ],
   "source": [
    "# factorize categorical variable\n",
    "data['deck_rating2'] = pd.factorize(data.deck_rating)[0]\n",
    "\n",
    "# View the top 5 rows\n",
    "data.head()"
   ]
  },
  {
   "cell_type": "markdown",
   "metadata": {},
   "source": [
    "# Create Training And Test Data"
   ]
  },
  {
   "cell_type": "code",
   "execution_count": 4,
   "metadata": {},
   "outputs": [
    {
     "data": {
      "text/html": [
       "<div>\n",
       "<style>\n",
       "    .dataframe thead tr:only-child th {\n",
       "        text-align: right;\n",
       "    }\n",
       "\n",
       "    .dataframe thead th {\n",
       "        text-align: left;\n",
       "    }\n",
       "\n",
       "    .dataframe tbody tr th {\n",
       "        vertical-align: top;\n",
       "    }\n",
       "</style>\n",
       "<table border=\"1\" class=\"dataframe\">\n",
       "  <thead>\n",
       "    <tr style=\"text-align: right;\">\n",
       "      <th></th>\n",
       "      <th>year_built</th>\n",
       "      <th>adt</th>\n",
       "      <th>skew</th>\n",
       "      <th>span_length</th>\n",
       "      <th>deck_width</th>\n",
       "      <th>deck_rating</th>\n",
       "      <th>deck_rating2</th>\n",
       "      <th>is_train</th>\n",
       "    </tr>\n",
       "  </thead>\n",
       "  <tbody>\n",
       "    <tr>\n",
       "      <th>0</th>\n",
       "      <td>1970</td>\n",
       "      <td>2081</td>\n",
       "      <td>15</td>\n",
       "      <td>39.6</td>\n",
       "      <td>18.1</td>\n",
       "      <td>6 - SATISFACTORY CONDITION</td>\n",
       "      <td>0</td>\n",
       "      <td>True</td>\n",
       "    </tr>\n",
       "    <tr>\n",
       "      <th>1</th>\n",
       "      <td>1941</td>\n",
       "      <td>11268</td>\n",
       "      <td>12</td>\n",
       "      <td>11.6</td>\n",
       "      <td>15.4</td>\n",
       "      <td>5 - FAIR CONDITION</td>\n",
       "      <td>1</td>\n",
       "      <td>True</td>\n",
       "    </tr>\n",
       "    <tr>\n",
       "      <th>2</th>\n",
       "      <td>1930</td>\n",
       "      <td>8834</td>\n",
       "      <td>0</td>\n",
       "      <td>9.4</td>\n",
       "      <td>13.4</td>\n",
       "      <td>5 - FAIR CONDITION</td>\n",
       "      <td>1</td>\n",
       "      <td>True</td>\n",
       "    </tr>\n",
       "    <tr>\n",
       "      <th>3</th>\n",
       "      <td>1929</td>\n",
       "      <td>15197</td>\n",
       "      <td>0</td>\n",
       "      <td>9.8</td>\n",
       "      <td>10.2</td>\n",
       "      <td>5 - FAIR CONDITION</td>\n",
       "      <td>1</td>\n",
       "      <td>True</td>\n",
       "    </tr>\n",
       "    <tr>\n",
       "      <th>4</th>\n",
       "      <td>1934</td>\n",
       "      <td>5861</td>\n",
       "      <td>0</td>\n",
       "      <td>11.3</td>\n",
       "      <td>10.3</td>\n",
       "      <td>6 - SATISFACTORY CONDITION</td>\n",
       "      <td>0</td>\n",
       "      <td>True</td>\n",
       "    </tr>\n",
       "  </tbody>\n",
       "</table>\n",
       "</div>"
      ],
      "text/plain": [
       "   year_built    adt  skew  span_length  deck_width  \\\n",
       "0        1970   2081    15         39.6        18.1   \n",
       "1        1941  11268    12         11.6        15.4   \n",
       "2        1930   8834     0          9.4        13.4   \n",
       "3        1929  15197     0          9.8        10.2   \n",
       "4        1934   5861     0         11.3        10.3   \n",
       "\n",
       "                  deck_rating  deck_rating2  is_train  \n",
       "0  6 - SATISFACTORY CONDITION             0      True  \n",
       "1          5 - FAIR CONDITION             1      True  \n",
       "2          5 - FAIR CONDITION             1      True  \n",
       "3          5 - FAIR CONDITION             1      True  \n",
       "4  6 - SATISFACTORY CONDITION             0      True  "
      ]
     },
     "execution_count": 4,
     "metadata": {},
     "output_type": "execute_result"
    }
   ],
   "source": [
    "# Create a new column that for each row, generates a random number between 0 and 1, and\n",
    "# if that value is less than or equal to .75, then sets the value of that cell as True\n",
    "# and false otherwise. This is a quick and dirty way of randomly assigning some rows to\n",
    "# be used as the training data and some as the test data.\n",
    "data['is_train'] = np.random.uniform(0, 1, len(data)) <= .75\n",
    "\n",
    "# View the top 5 rows\n",
    "data.head()"
   ]
  },
  {
   "cell_type": "code",
   "execution_count": 5,
   "metadata": {
    "collapsed": true
   },
   "outputs": [],
   "source": [
    "# Create two new dataframes, one with the training rows, one with the test rows\n",
    "train, test = data[data['is_train']==True], data[data['is_train']==False]"
   ]
  },
  {
   "cell_type": "code",
   "execution_count": 6,
   "metadata": {},
   "outputs": [
    {
     "name": "stdout",
     "output_type": "stream",
     "text": [
      "Number of observations in the training data: 919\n",
      "Number of observations in the test data: 303\n"
     ]
    }
   ],
   "source": [
    "# Show the number of observations for the test and training dataframes\n",
    "print('Number of observations in the training data:', len(train))\n",
    "print('Number of observations in the test data:',len(test))"
   ]
  },
  {
   "cell_type": "markdown",
   "metadata": {},
   "source": [
    "# Train the Random Forest Classifier"
   ]
  },
  {
   "cell_type": "code",
   "execution_count": 46,
   "metadata": {},
   "outputs": [
    {
     "data": {
      "text/plain": [
       "RandomForestClassifier(bootstrap=True, class_weight=None, criterion='gini',\n",
       "            max_depth=25, max_features='sqrt', max_leaf_nodes=None,\n",
       "            min_impurity_split=1e-07, min_samples_leaf=10,\n",
       "            min_samples_split=2, min_weight_fraction_leaf=0.0,\n",
       "            n_estimators=20, n_jobs=-1, oob_score=False, random_state=0,\n",
       "            verbose=0, warm_start=False)"
      ]
     },
     "execution_count": 46,
     "metadata": {},
     "output_type": "execute_result"
    }
   ],
   "source": [
    "# get features used to train\n",
    "features = data.columns[:-3]\n",
    "\n",
    "# get targets used to train\n",
    "y = pd.factorize(train['deck_rating'])[0]\n",
    "\n",
    "# Create a random forest Classifier. By convention, clf means 'Classifier'\n",
    "clf = RandomForestClassifier(n_jobs=-1, random_state=0, max_features='sqrt', n_estimators=20,\n",
    "                            min_samples_leaf=10,max_depth = 25)\n",
    "\n",
    "# Train the Classifier to take the training features and learn how they relate\n",
    "# to the training y (the species)\n",
    "clf.fit(train[features], y)"
   ]
  },
  {
   "cell_type": "code",
   "execution_count": 47,
   "metadata": {},
   "outputs": [
    {
     "data": {
      "text/plain": [
       "Index(['year_built', 'adt', 'skew', 'span_length', 'deck_width'], dtype='object')"
      ]
     },
     "execution_count": 47,
     "metadata": {},
     "output_type": "execute_result"
    }
   ],
   "source": [
    "features"
   ]
  },
  {
   "cell_type": "markdown",
   "metadata": {},
   "source": [
    "# Apply Classifier To Test Data"
   ]
  },
  {
   "cell_type": "code",
   "execution_count": 48,
   "metadata": {},
   "outputs": [
    {
     "data": {
      "text/plain": [
       "array([0, 0, 0, 0, 0, 1, 0, 2, 1, 1, 2, 1, 1, 1, 1, 1, 0, 2, 0, 2, 1, 0, 2,\n",
       "       0, 2, 2, 2, 2, 2, 1, 0, 2, 1, 1, 0, 2, 0, 0, 0, 6, 0, 0, 0, 1, 0, 1,\n",
       "       2, 0, 2, 2, 2, 0, 2, 2, 0, 0, 0, 0, 1, 2, 2, 2, 2, 2, 2, 2, 0, 2, 3,\n",
       "       2, 0, 2, 2, 0, 1, 1, 0, 1, 0, 1, 0, 0, 0, 1, 0, 0, 0, 1, 6, 0, 0, 0,\n",
       "       0, 1, 0, 1, 2, 3, 1, 0, 2, 2, 0, 0, 0, 0, 2, 2, 0, 2, 2, 2, 2, 1, 2,\n",
       "       1, 2, 2, 2, 0, 0, 0, 2, 1, 1, 1, 0, 0, 0, 2, 2, 2, 2, 2, 2, 2, 2, 2,\n",
       "       0, 2, 2, 2, 0, 2, 0, 1, 1, 0, 0, 0, 0, 0, 2, 1, 1, 2, 0, 0, 0, 2, 2,\n",
       "       1, 2, 2, 0, 1, 0, 0, 0, 1, 0, 2, 2, 2, 0, 1, 2, 2, 0, 2, 2, 1, 0, 0,\n",
       "       0, 2, 0, 1, 2, 2, 2, 2, 2, 6, 0, 2, 2, 1, 3, 2, 0, 0, 2, 2, 1, 0, 0,\n",
       "       0, 0, 0, 0, 0, 1, 0, 2, 0, 1, 2, 1, 0, 0, 2, 1, 0, 2, 0, 1, 0, 0, 0,\n",
       "       0, 0, 1, 2, 0, 0, 0, 0, 0, 0, 2, 2, 2, 2, 2, 1, 2, 2, 3, 3, 0, 2, 3,\n",
       "       3, 0, 0, 2, 0, 2, 0, 0, 2, 2, 2, 2, 0, 0, 0, 0, 0, 0, 0, 0, 0, 0, 0,\n",
       "       0, 0, 3, 0, 0, 2, 6, 0, 3, 3, 6, 0, 6, 2, 2, 0, 2, 0, 2, 2, 0, 0, 0,\n",
       "       0, 0, 2, 0], dtype=int64)"
      ]
     },
     "execution_count": 48,
     "metadata": {},
     "output_type": "execute_result"
    }
   ],
   "source": [
    "# Apply the Classifier we trained to the test data (which, remember, it has never seen before)\n",
    "clf.predict(test[features])"
   ]
  },
  {
   "cell_type": "code",
   "execution_count": 49,
   "metadata": {},
   "outputs": [
    {
     "data": {
      "text/plain": [
       "array([[ 0.64569686,  0.15825511,  0.10684228,  0.03446882,  0.05473692,\n",
       "         0.        ,  0.        ],\n",
       "       [ 0.45379151,  0.17792219,  0.26109465,  0.05807995,  0.04725985,\n",
       "         0.        ,  0.00185185],\n",
       "       [ 0.61997176,  0.20298896,  0.14527697,  0.01350909,  0.01825322,\n",
       "         0.        ,  0.        ],\n",
       "       [ 0.36529414,  0.24672214,  0.28996243,  0.06056075,  0.03746053,\n",
       "         0.        ,  0.        ],\n",
       "       [ 0.59318924,  0.1648513 ,  0.18046881,  0.03262533,  0.02886533,\n",
       "         0.        ,  0.        ]])"
      ]
     },
     "execution_count": 49,
     "metadata": {},
     "output_type": "execute_result"
    }
   ],
   "source": [
    "# View the predicted probabilities of the first 10 observations\n",
    "clf.predict_proba(test[features])[0:5]"
   ]
  },
  {
   "cell_type": "markdown",
   "metadata": {},
   "source": [
    "# Evaluate Classifier"
   ]
  },
  {
   "cell_type": "code",
   "execution_count": 50,
   "metadata": {
    "collapsed": true
   },
   "outputs": [],
   "source": [
    "# Create actual english names for the plants for each predicted plant class\n",
    "target_names = data.deck_rating.unique() \n",
    "preds = target_names[clf.predict(test[features])]"
   ]
  },
  {
   "cell_type": "code",
   "execution_count": 51,
   "metadata": {},
   "outputs": [
    {
     "data": {
      "text/plain": [
       "array(['6 - SATISFACTORY CONDITION', '6 - SATISFACTORY CONDITION',\n",
       "       '6 - SATISFACTORY CONDITION', '6 - SATISFACTORY CONDITION',\n",
       "       '6 - SATISFACTORY CONDITION', '5 - FAIR CONDITION',\n",
       "       '6 - SATISFACTORY CONDITION', '7 - GOOD CONDITION',\n",
       "       '5 - FAIR CONDITION', '5 - FAIR CONDITION'], dtype=object)"
      ]
     },
     "execution_count": 51,
     "metadata": {},
     "output_type": "execute_result"
    }
   ],
   "source": [
    "# View the PREDICTED species for the first five observations\n",
    "preds[0:10]"
   ]
  },
  {
   "cell_type": "code",
   "execution_count": 52,
   "metadata": {},
   "outputs": [
    {
     "data": {
      "text/plain": [
       "7             5 - FAIR CONDITION\n",
       "8             7 - GOOD CONDITION\n",
       "10            7 - GOOD CONDITION\n",
       "13    6 - SATISFACTORY CONDITION\n",
       "17            7 - GOOD CONDITION\n",
       "18            5 - FAIR CONDITION\n",
       "19    6 - SATISFACTORY CONDITION\n",
       "20    6 - SATISFACTORY CONDITION\n",
       "21            5 - FAIR CONDITION\n",
       "23            5 - FAIR CONDITION\n",
       "Name: deck_rating, dtype: object"
      ]
     },
     "execution_count": 52,
     "metadata": {},
     "output_type": "execute_result"
    }
   ],
   "source": [
    "# View the ACTUAL species for the first five observations\n",
    "test['deck_rating'].head(10)"
   ]
  },
  {
   "cell_type": "markdown",
   "metadata": {},
   "source": [
    "# Create a confusion matrix"
   ]
  },
  {
   "cell_type": "code",
   "execution_count": 53,
   "metadata": {},
   "outputs": [
    {
     "data": {
      "text/html": [
       "<div>\n",
       "<style>\n",
       "    .dataframe thead tr:only-child th {\n",
       "        text-align: right;\n",
       "    }\n",
       "\n",
       "    .dataframe thead th {\n",
       "        text-align: left;\n",
       "    }\n",
       "\n",
       "    .dataframe tbody tr th {\n",
       "        vertical-align: top;\n",
       "    }\n",
       "</style>\n",
       "<table border=\"1\" class=\"dataframe\">\n",
       "  <thead>\n",
       "    <tr style=\"text-align: right;\">\n",
       "      <th>Predicted Ratings</th>\n",
       "      <th>5 - FAIR CONDITION</th>\n",
       "      <th>6 - SATISFACTORY CONDITION</th>\n",
       "      <th>7 - GOOD CONDITION</th>\n",
       "      <th>8 - VERY GOOD CONDITION</th>\n",
       "      <th>9 - EXCELLENT CONDITION</th>\n",
       "    </tr>\n",
       "    <tr>\n",
       "      <th>Actual Ratings</th>\n",
       "      <th></th>\n",
       "      <th></th>\n",
       "      <th></th>\n",
       "      <th></th>\n",
       "      <th></th>\n",
       "    </tr>\n",
       "  </thead>\n",
       "  <tbody>\n",
       "    <tr>\n",
       "      <th>3 - SERIOUS CONDITION</th>\n",
       "      <td>0</td>\n",
       "      <td>3</td>\n",
       "      <td>0</td>\n",
       "      <td>0</td>\n",
       "      <td>0</td>\n",
       "    </tr>\n",
       "    <tr>\n",
       "      <th>4 - POOR CONDITION</th>\n",
       "      <td>4</td>\n",
       "      <td>7</td>\n",
       "      <td>1</td>\n",
       "      <td>0</td>\n",
       "      <td>0</td>\n",
       "    </tr>\n",
       "    <tr>\n",
       "      <th>5 - FAIR CONDITION</th>\n",
       "      <td>19</td>\n",
       "      <td>24</td>\n",
       "      <td>6</td>\n",
       "      <td>0</td>\n",
       "      <td>0</td>\n",
       "    </tr>\n",
       "    <tr>\n",
       "      <th>6 - SATISFACTORY CONDITION</th>\n",
       "      <td>15</td>\n",
       "      <td>57</td>\n",
       "      <td>27</td>\n",
       "      <td>0</td>\n",
       "      <td>0</td>\n",
       "    </tr>\n",
       "    <tr>\n",
       "      <th>7 - GOOD CONDITION</th>\n",
       "      <td>8</td>\n",
       "      <td>32</td>\n",
       "      <td>46</td>\n",
       "      <td>2</td>\n",
       "      <td>0</td>\n",
       "    </tr>\n",
       "    <tr>\n",
       "      <th>8 - VERY GOOD CONDITION</th>\n",
       "      <td>2</td>\n",
       "      <td>7</td>\n",
       "      <td>20</td>\n",
       "      <td>5</td>\n",
       "      <td>3</td>\n",
       "    </tr>\n",
       "    <tr>\n",
       "      <th>9 - EXCELLENT CONDITION</th>\n",
       "      <td>0</td>\n",
       "      <td>3</td>\n",
       "      <td>6</td>\n",
       "      <td>3</td>\n",
       "      <td>3</td>\n",
       "    </tr>\n",
       "  </tbody>\n",
       "</table>\n",
       "</div>"
      ],
      "text/plain": [
       "Predicted Ratings           5 - FAIR CONDITION  6 - SATISFACTORY CONDITION  \\\n",
       "Actual Ratings                                                               \n",
       "3 - SERIOUS CONDITION                        0                           3   \n",
       "4 - POOR CONDITION                           4                           7   \n",
       "5 - FAIR CONDITION                          19                          24   \n",
       "6 - SATISFACTORY CONDITION                  15                          57   \n",
       "7 - GOOD CONDITION                           8                          32   \n",
       "8 - VERY GOOD CONDITION                      2                           7   \n",
       "9 - EXCELLENT CONDITION                      0                           3   \n",
       "\n",
       "Predicted Ratings           7 - GOOD CONDITION  8 - VERY GOOD CONDITION  \\\n",
       "Actual Ratings                                                            \n",
       "3 - SERIOUS CONDITION                        0                        0   \n",
       "4 - POOR CONDITION                           1                        0   \n",
       "5 - FAIR CONDITION                           6                        0   \n",
       "6 - SATISFACTORY CONDITION                  27                        0   \n",
       "7 - GOOD CONDITION                          46                        2   \n",
       "8 - VERY GOOD CONDITION                     20                        5   \n",
       "9 - EXCELLENT CONDITION                      6                        3   \n",
       "\n",
       "Predicted Ratings           9 - EXCELLENT CONDITION  \n",
       "Actual Ratings                                       \n",
       "3 - SERIOUS CONDITION                             0  \n",
       "4 - POOR CONDITION                                0  \n",
       "5 - FAIR CONDITION                                0  \n",
       "6 - SATISFACTORY CONDITION                        0  \n",
       "7 - GOOD CONDITION                                0  \n",
       "8 - VERY GOOD CONDITION                           3  \n",
       "9 - EXCELLENT CONDITION                           3  "
      ]
     },
     "execution_count": 53,
     "metadata": {},
     "output_type": "execute_result"
    }
   ],
   "source": [
    "# Create confusion matrix\n",
    "pd.crosstab(test['deck_rating'], preds, rownames=['Actual Ratings'], colnames=['Predicted Ratings'])"
   ]
  },
  {
   "cell_type": "code",
   "execution_count": 54,
   "metadata": {},
   "outputs": [
    {
     "data": {
      "text/plain": [
       "6 - SATISFACTORY CONDITION    99\n",
       "7 - GOOD CONDITION            88\n",
       "5 - FAIR CONDITION            49\n",
       "8 - VERY GOOD CONDITION       37\n",
       "9 - EXCELLENT CONDITION       15\n",
       "4 - POOR CONDITION            12\n",
       "3 - SERIOUS CONDITION          3\n",
       "Name: deck_rating, dtype: int64"
      ]
     },
     "execution_count": 54,
     "metadata": {},
     "output_type": "execute_result"
    }
   ],
   "source": [
    "test.deck_rating.value_counts()"
   ]
  },
  {
   "cell_type": "markdown",
   "metadata": {},
   "source": [
    "# View Feature Importance"
   ]
  },
  {
   "cell_type": "code",
   "execution_count": 55,
   "metadata": {},
   "outputs": [
    {
     "data": {
      "text/plain": [
       "[('year_built', 0.42213028582280465),\n",
       " ('adt', 0.15177086614971821),\n",
       " ('skew', 0.064741922211611319),\n",
       " ('span_length', 0.21412423293689908),\n",
       " ('deck_width', 0.14723269287896676)]"
      ]
     },
     "execution_count": 55,
     "metadata": {},
     "output_type": "execute_result"
    }
   ],
   "source": [
    "# View a list of the features and their importance scores\n",
    "list(zip(train[features], clf.feature_importances_))"
   ]
  },
  {
   "cell_type": "code",
   "execution_count": 56,
   "metadata": {
    "collapsed": true
   },
   "outputs": [],
   "source": [
    "from sklearn.metrics import accuracy_score"
   ]
  },
  {
   "cell_type": "code",
   "execution_count": 57,
   "metadata": {},
   "outputs": [
    {
     "data": {
      "text/plain": [
       "0.65070729053318821"
      ]
     },
     "execution_count": 57,
     "metadata": {},
     "output_type": "execute_result"
    }
   ],
   "source": [
    "accuracy_score(y, clf.predict(train[features]))"
   ]
  },
  {
   "cell_type": "code",
   "execution_count": 58,
   "metadata": {},
   "outputs": [
    {
     "data": {
      "text/plain": [
       "0.42904290429042902"
      ]
     },
     "execution_count": 58,
     "metadata": {},
     "output_type": "execute_result"
    }
   ],
   "source": [
    "accuracy_score(test['deck_rating'], preds)"
   ]
  },
  {
   "cell_type": "code",
   "execution_count": null,
   "metadata": {
    "collapsed": true
   },
   "outputs": [],
   "source": []
  }
 ],
 "metadata": {
  "kernelspec": {
   "display_name": "Python 3",
   "language": "python",
   "name": "python3"
  },
  "language_info": {
   "codemirror_mode": {
    "name": "ipython",
    "version": 3
   },
   "file_extension": ".py",
   "mimetype": "text/x-python",
   "name": "python",
   "nbconvert_exporter": "python",
   "pygments_lexer": "ipython3",
   "version": "3.6.1"
  }
 },
 "nbformat": 4,
 "nbformat_minor": 2
}
